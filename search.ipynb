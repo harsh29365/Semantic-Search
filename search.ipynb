{
  "nbformat": 4,
  "nbformat_minor": 0,
  "metadata": {
    "colab": {
      "provenance": [],
      "authorship_tag": "ABX9TyO9H+I5M4hG0Tn2zripvC+s",
      "include_colab_link": true
    },
    "kernelspec": {
      "name": "python3",
      "display_name": "Python 3"
    },
    "language_info": {
      "name": "python"
    },
    "widgets": {
      "application/vnd.jupyter.widget-state+json": {
        "001bf253f4264801b9ca2bafdc5633b0": {
          "model_module": "@jupyter-widgets/controls",
          "model_name": "HBoxModel",
          "model_module_version": "1.5.0",
          "state": {
            "_dom_classes": [],
            "_model_module": "@jupyter-widgets/controls",
            "_model_module_version": "1.5.0",
            "_model_name": "HBoxModel",
            "_view_count": null,
            "_view_module": "@jupyter-widgets/controls",
            "_view_module_version": "1.5.0",
            "_view_name": "HBoxView",
            "box_style": "",
            "children": [
              "IPY_MODEL_29dd1923b9ee480db8197f3ec3dd2f57",
              "IPY_MODEL_95622f0e63244f0b8ae2ebce394252cf",
              "IPY_MODEL_afc0d171b8614e76acaf9cc84c88c831"
            ],
            "layout": "IPY_MODEL_719a3bbdf31b4c16927f018ef08fe196"
          }
        },
        "29dd1923b9ee480db8197f3ec3dd2f57": {
          "model_module": "@jupyter-widgets/controls",
          "model_name": "HTMLModel",
          "model_module_version": "1.5.0",
          "state": {
            "_dom_classes": [],
            "_model_module": "@jupyter-widgets/controls",
            "_model_module_version": "1.5.0",
            "_model_name": "HTMLModel",
            "_view_count": null,
            "_view_module": "@jupyter-widgets/controls",
            "_view_module_version": "1.5.0",
            "_view_name": "HTMLView",
            "description": "",
            "description_tooltip": null,
            "layout": "IPY_MODEL_8abeb36849164f278ecea85941fb58df",
            "placeholder": "​",
            "style": "IPY_MODEL_2d29befaafb947379c3fce5682f238af",
            "value": "Batches: 100%"
          }
        },
        "95622f0e63244f0b8ae2ebce394252cf": {
          "model_module": "@jupyter-widgets/controls",
          "model_name": "FloatProgressModel",
          "model_module_version": "1.5.0",
          "state": {
            "_dom_classes": [],
            "_model_module": "@jupyter-widgets/controls",
            "_model_module_version": "1.5.0",
            "_model_name": "FloatProgressModel",
            "_view_count": null,
            "_view_module": "@jupyter-widgets/controls",
            "_view_module_version": "1.5.0",
            "_view_name": "ProgressView",
            "bar_style": "success",
            "description": "",
            "description_tooltip": null,
            "layout": "IPY_MODEL_68e3a42f254e4fe4a2c69fde54252e07",
            "max": 2,
            "min": 0,
            "orientation": "horizontal",
            "style": "IPY_MODEL_3a2dd8880c844270a5b192dd792b6470",
            "value": 2
          }
        },
        "afc0d171b8614e76acaf9cc84c88c831": {
          "model_module": "@jupyter-widgets/controls",
          "model_name": "HTMLModel",
          "model_module_version": "1.5.0",
          "state": {
            "_dom_classes": [],
            "_model_module": "@jupyter-widgets/controls",
            "_model_module_version": "1.5.0",
            "_model_name": "HTMLModel",
            "_view_count": null,
            "_view_module": "@jupyter-widgets/controls",
            "_view_module_version": "1.5.0",
            "_view_name": "HTMLView",
            "description": "",
            "description_tooltip": null,
            "layout": "IPY_MODEL_59dcb98acb1245f7abce9f8141294200",
            "placeholder": "​",
            "style": "IPY_MODEL_8dfb3172f6a64f2da2ae39d1e9c56a8c",
            "value": " 2/2 [00:29&lt;00:00, 14.07s/it]"
          }
        },
        "719a3bbdf31b4c16927f018ef08fe196": {
          "model_module": "@jupyter-widgets/base",
          "model_name": "LayoutModel",
          "model_module_version": "1.2.0",
          "state": {
            "_model_module": "@jupyter-widgets/base",
            "_model_module_version": "1.2.0",
            "_model_name": "LayoutModel",
            "_view_count": null,
            "_view_module": "@jupyter-widgets/base",
            "_view_module_version": "1.2.0",
            "_view_name": "LayoutView",
            "align_content": null,
            "align_items": null,
            "align_self": null,
            "border": null,
            "bottom": null,
            "display": null,
            "flex": null,
            "flex_flow": null,
            "grid_area": null,
            "grid_auto_columns": null,
            "grid_auto_flow": null,
            "grid_auto_rows": null,
            "grid_column": null,
            "grid_gap": null,
            "grid_row": null,
            "grid_template_areas": null,
            "grid_template_columns": null,
            "grid_template_rows": null,
            "height": null,
            "justify_content": null,
            "justify_items": null,
            "left": null,
            "margin": null,
            "max_height": null,
            "max_width": null,
            "min_height": null,
            "min_width": null,
            "object_fit": null,
            "object_position": null,
            "order": null,
            "overflow": null,
            "overflow_x": null,
            "overflow_y": null,
            "padding": null,
            "right": null,
            "top": null,
            "visibility": null,
            "width": null
          }
        },
        "8abeb36849164f278ecea85941fb58df": {
          "model_module": "@jupyter-widgets/base",
          "model_name": "LayoutModel",
          "model_module_version": "1.2.0",
          "state": {
            "_model_module": "@jupyter-widgets/base",
            "_model_module_version": "1.2.0",
            "_model_name": "LayoutModel",
            "_view_count": null,
            "_view_module": "@jupyter-widgets/base",
            "_view_module_version": "1.2.0",
            "_view_name": "LayoutView",
            "align_content": null,
            "align_items": null,
            "align_self": null,
            "border": null,
            "bottom": null,
            "display": null,
            "flex": null,
            "flex_flow": null,
            "grid_area": null,
            "grid_auto_columns": null,
            "grid_auto_flow": null,
            "grid_auto_rows": null,
            "grid_column": null,
            "grid_gap": null,
            "grid_row": null,
            "grid_template_areas": null,
            "grid_template_columns": null,
            "grid_template_rows": null,
            "height": null,
            "justify_content": null,
            "justify_items": null,
            "left": null,
            "margin": null,
            "max_height": null,
            "max_width": null,
            "min_height": null,
            "min_width": null,
            "object_fit": null,
            "object_position": null,
            "order": null,
            "overflow": null,
            "overflow_x": null,
            "overflow_y": null,
            "padding": null,
            "right": null,
            "top": null,
            "visibility": null,
            "width": null
          }
        },
        "2d29befaafb947379c3fce5682f238af": {
          "model_module": "@jupyter-widgets/controls",
          "model_name": "DescriptionStyleModel",
          "model_module_version": "1.5.0",
          "state": {
            "_model_module": "@jupyter-widgets/controls",
            "_model_module_version": "1.5.0",
            "_model_name": "DescriptionStyleModel",
            "_view_count": null,
            "_view_module": "@jupyter-widgets/base",
            "_view_module_version": "1.2.0",
            "_view_name": "StyleView",
            "description_width": ""
          }
        },
        "68e3a42f254e4fe4a2c69fde54252e07": {
          "model_module": "@jupyter-widgets/base",
          "model_name": "LayoutModel",
          "model_module_version": "1.2.0",
          "state": {
            "_model_module": "@jupyter-widgets/base",
            "_model_module_version": "1.2.0",
            "_model_name": "LayoutModel",
            "_view_count": null,
            "_view_module": "@jupyter-widgets/base",
            "_view_module_version": "1.2.0",
            "_view_name": "LayoutView",
            "align_content": null,
            "align_items": null,
            "align_self": null,
            "border": null,
            "bottom": null,
            "display": null,
            "flex": null,
            "flex_flow": null,
            "grid_area": null,
            "grid_auto_columns": null,
            "grid_auto_flow": null,
            "grid_auto_rows": null,
            "grid_column": null,
            "grid_gap": null,
            "grid_row": null,
            "grid_template_areas": null,
            "grid_template_columns": null,
            "grid_template_rows": null,
            "height": null,
            "justify_content": null,
            "justify_items": null,
            "left": null,
            "margin": null,
            "max_height": null,
            "max_width": null,
            "min_height": null,
            "min_width": null,
            "object_fit": null,
            "object_position": null,
            "order": null,
            "overflow": null,
            "overflow_x": null,
            "overflow_y": null,
            "padding": null,
            "right": null,
            "top": null,
            "visibility": null,
            "width": null
          }
        },
        "3a2dd8880c844270a5b192dd792b6470": {
          "model_module": "@jupyter-widgets/controls",
          "model_name": "ProgressStyleModel",
          "model_module_version": "1.5.0",
          "state": {
            "_model_module": "@jupyter-widgets/controls",
            "_model_module_version": "1.5.0",
            "_model_name": "ProgressStyleModel",
            "_view_count": null,
            "_view_module": "@jupyter-widgets/base",
            "_view_module_version": "1.2.0",
            "_view_name": "StyleView",
            "bar_color": null,
            "description_width": ""
          }
        },
        "59dcb98acb1245f7abce9f8141294200": {
          "model_module": "@jupyter-widgets/base",
          "model_name": "LayoutModel",
          "model_module_version": "1.2.0",
          "state": {
            "_model_module": "@jupyter-widgets/base",
            "_model_module_version": "1.2.0",
            "_model_name": "LayoutModel",
            "_view_count": null,
            "_view_module": "@jupyter-widgets/base",
            "_view_module_version": "1.2.0",
            "_view_name": "LayoutView",
            "align_content": null,
            "align_items": null,
            "align_self": null,
            "border": null,
            "bottom": null,
            "display": null,
            "flex": null,
            "flex_flow": null,
            "grid_area": null,
            "grid_auto_columns": null,
            "grid_auto_flow": null,
            "grid_auto_rows": null,
            "grid_column": null,
            "grid_gap": null,
            "grid_row": null,
            "grid_template_areas": null,
            "grid_template_columns": null,
            "grid_template_rows": null,
            "height": null,
            "justify_content": null,
            "justify_items": null,
            "left": null,
            "margin": null,
            "max_height": null,
            "max_width": null,
            "min_height": null,
            "min_width": null,
            "object_fit": null,
            "object_position": null,
            "order": null,
            "overflow": null,
            "overflow_x": null,
            "overflow_y": null,
            "padding": null,
            "right": null,
            "top": null,
            "visibility": null,
            "width": null
          }
        },
        "8dfb3172f6a64f2da2ae39d1e9c56a8c": {
          "model_module": "@jupyter-widgets/controls",
          "model_name": "DescriptionStyleModel",
          "model_module_version": "1.5.0",
          "state": {
            "_model_module": "@jupyter-widgets/controls",
            "_model_module_version": "1.5.0",
            "_model_name": "DescriptionStyleModel",
            "_view_count": null,
            "_view_module": "@jupyter-widgets/base",
            "_view_module_version": "1.2.0",
            "_view_name": "StyleView",
            "description_width": ""
          }
        }
      }
    }
  },
  "cells": [
    {
      "cell_type": "markdown",
      "metadata": {
        "id": "view-in-github",
        "colab_type": "text"
      },
      "source": [
        "<a href=\"https://colab.research.google.com/github/harsh29365/Semantic-Search/blob/main/search.ipynb\" target=\"_parent\"><img src=\"https://colab.research.google.com/assets/colab-badge.svg\" alt=\"Open In Colab\"/></a>"
      ]
    },
    {
      "cell_type": "code",
      "execution_count": null,
      "metadata": {
        "id": "Q-IzxAGnMkC5"
      },
      "outputs": [],
      "source": [
        "import numpy\n",
        "from sentence_transformers import SentenceTransformer\n",
        "from sklearn.metrics.pairwise import cosine_similarity"
      ]
    },
    {
      "cell_type": "code",
      "source": [
        "text = open(\"input.txt\").read()"
      ],
      "metadata": {
        "id": "To-hV65gtgCD"
      },
      "execution_count": null,
      "outputs": []
    },
    {
      "cell_type": "code",
      "source": [
        "length = 500\n",
        "overlap = 100\n",
        "\n",
        "start = 0\n",
        "snippets = []\n",
        "\n",
        "while start < len(text):\n",
        "    end = start + length\n",
        "    snippets.append(\"passage: \" + text[start:end])\n",
        "    start += length - overlap"
      ],
      "metadata": {
        "id": "w14UFEAC5lIH"
      },
      "execution_count": null,
      "outputs": []
    },
    {
      "cell_type": "code",
      "source": [
        "model = SentenceTransformer(\"intfloat/e5-base-v2\")"
      ],
      "metadata": {
        "id": "bNW0KBWXM0wD"
      },
      "execution_count": null,
      "outputs": []
    },
    {
      "cell_type": "code",
      "source": [
        "embeddings = model.encode(snippets, show_progress_bar=True)"
      ],
      "metadata": {
        "id": "KqdEmJ0SM6nR",
        "colab": {
          "base_uri": "https://localhost:8080/",
          "height": 49,
          "referenced_widgets": [
            "001bf253f4264801b9ca2bafdc5633b0",
            "29dd1923b9ee480db8197f3ec3dd2f57",
            "95622f0e63244f0b8ae2ebce394252cf",
            "afc0d171b8614e76acaf9cc84c88c831",
            "719a3bbdf31b4c16927f018ef08fe196",
            "8abeb36849164f278ecea85941fb58df",
            "2d29befaafb947379c3fce5682f238af",
            "68e3a42f254e4fe4a2c69fde54252e07",
            "3a2dd8880c844270a5b192dd792b6470",
            "59dcb98acb1245f7abce9f8141294200",
            "8dfb3172f6a64f2da2ae39d1e9c56a8c"
          ]
        },
        "outputId": "1a87ea1b-9211-44e4-b78c-396760b84b7a"
      },
      "execution_count": null,
      "outputs": [
        {
          "output_type": "display_data",
          "data": {
            "text/plain": [
              "Batches:   0%|          | 0/2 [00:00<?, ?it/s]"
            ],
            "application/vnd.jupyter.widget-view+json": {
              "version_major": 2,
              "version_minor": 0,
              "model_id": "001bf253f4264801b9ca2bafdc5633b0"
            }
          },
          "metadata": {}
        }
      ]
    },
    {
      "cell_type": "code",
      "source": [
        "query = \"query: The mirror servers are specified at what location?\""
      ],
      "metadata": {
        "id": "pb1pLKXIQsv2"
      },
      "execution_count": null,
      "outputs": []
    },
    {
      "cell_type": "code",
      "source": [
        "query_embedding = model.encode([query])[0]\n",
        "similarities = cosine_similarity([query_embedding], embeddings)\n",
        "top_5_indices = numpy.argsort(similarities[0])[-5:][::-1]\n",
        "top_5_matches = [(snippets[i], similarities[0][i]) for i in top_5_indices]"
      ],
      "metadata": {
        "id": "lphT0oRaOaJ6"
      },
      "execution_count": null,
      "outputs": []
    },
    {
      "cell_type": "code",
      "source": [
        "for match, score in top_5_matches:\n",
        "    print(f\"Score: {score:.4f}\\n{match}\")\n",
        "    print(\"-----------------\\n\")"
      ],
      "metadata": {
        "colab": {
          "base_uri": "https://localhost:8080/"
        },
        "id": "9l11ymX04c0w",
        "outputId": "f0a0b347-273f-4f5e-e8ff-4d9b455b4003"
      },
      "execution_count": null,
      "outputs": [
        {
          "output_type": "stream",
          "name": "stdout",
          "text": [
            "Score: 0.8189\n",
            "passage: swap_partition\n",
            "genfstab(8) (https://man.archlinux.org/man/genfstab.8) will later detect mounted file\n",
            "systems and swap space.\n",
            "Packages to be installed must be downloaded from mirror servers, which are defined in\n",
            "/etc/pacman.d/mirrorlist . On the live system, after connecting to the internet, reflector\n",
            "updates the mirror list by choosing 20 most recently synchronized HTTPS mirrors and sorting them\n",
            "by download rate.\n",
            "The higher a mirror is placed in the list, the more priority it is given when downl\n",
            "-----------------\n",
            "\n",
            "Score: 0.8125\n",
            "passage: y download rate.\n",
            "The higher a mirror is placed in the list, the more priority it is given when downloading a package.\n",
            "You may want to inspect the file to see if it is satisfactory. If it is not, edit the file accordingly, and\n",
            "move the geographically closest mirrors to the top of the list, although other criteria should be taken\n",
            "into account.\n",
            "This file will later be copied to the new system by pacstrap, so it is worth getting right.\n",
            "Note: No software or configuration (except for /etc/pacman.d/mir\n",
            "-----------------\n",
            "\n",
            "Score: 0.7732\n",
            "passage: nature.\n",
            "It is recommended to verify the image signature before use, especially when downloading from an\n",
            "HTTP mirror, where downloads are generally prone to be intercepted to serve malicious images\n",
            "(https://www2.cs.arizona.edu/stork/packagemanagersecurity/attacks-on-package-ma\n",
            "nagers.html).\n",
            "On a system with GnuPG installed, do this by downloading the ISO PGP signature (under\n",
            "Checksums in the page Download (https://archlinux.org/download/#checksums)) to the\n",
            "ISO directory, and verifying it with:\n",
            "$ \n",
            "-----------------\n",
            "\n",
            "Score: 0.7461\n",
            "passage:  example, to view this guide with Lynx (https://lynx.invisible\n",
            "-island.net/lynx_help/Lynx_users_guide.html) alongside the installation—use the\n",
            "Alt+arrow shortcut. To edit configuration files, mcedit(1) (https://man.archlinux.org/ma\n",
            "n/mcedit.1), nano and vim are available. See pkglist.x86_64.txt (https://geo.mirror.pkgbu\n",
            "ild.com/iso/latest/arch/pkglist.x86_64.txt) for a list of the packages included in the\n",
            "installation medium.\n",
            "The default console keymap is US. Available layouts can be listed with\n",
            "-----------------\n",
            "\n",
            "Score: 0.7456\n",
            "passage: thernet, WLAN, and WWAN network\n",
            "interfaces.\n",
            "Static IP address: follow Network configuration#Static IP address.\n",
            "5. The connection may be verified with ping:\n",
            "# ping archlinux.org\n",
            "Note: In the installation image, systemd-networkd, systemd-resolved, iwd and\n",
            "ModemManager are preconfigured and enabled by default. That will not be the case for the\n",
            "installed system.\n",
            "In the live environment systemd-timesyncd is enabled by default and time will be synced\n",
            "automatically once a connection to the internet is \n",
            "-----------------\n",
            "\n"
          ]
        }
      ]
    }
  ]
}